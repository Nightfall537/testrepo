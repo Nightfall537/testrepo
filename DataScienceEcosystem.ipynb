{
 "cells": [
  {
   "cell_type": "markdown",
   "id": "2bddd530-1801-4694-8cb3-33475a7e0b8f",
   "metadata": {},
   "source": [
    "# Data Science Tools and Ecosystem"
   ]
  },
  {
   "attachments": {},
   "cell_type": "markdown",
   "id": "de0d4294-b25b-4601-a717-bb9be9b1c823",
   "metadata": {},
   "source": [
    "In this notebook, Data Science Tools and Ecosystem are summarized"
   ]
  },
  {
   "cell_type": "markdown",
   "id": "07ae87f0-5af2-4d9e-ae3c-9b70280eca58",
   "metadata": {},
   "source": [
    "Some of the popular lanaguages that Data Scientists use are: \n",
    "1. Python\n",
    "2. SQL\n",
    "3. R"
   ]
  },
  {
   "cell_type": "markdown",
   "id": "45059912-fa5e-4119-8f3d-bb26b678088d",
   "metadata": {},
   "source": [
    "Some of the commonly used libraries used by Data Scientists include:\n",
    "1. Matplotlib\n",
    "2. Numpy\n",
    "3. Pandas"
   ]
  },
  {
   "cell_type": "markdown",
   "id": "a6f729cf-0a0a-4a10-9f63-810658e16073",
   "metadata": {},
   "source": [
    "|Data Science Tools|\n",
    "|------------------|\n",
    "|Anaconda|\n",
    "|Jupyter Notebook|\n",
    "|Vs Code|"
   ]
  },
  {
   "cell_type": "markdown",
   "id": "e45ba074-bb81-4dcf-8be4-8a59423981e4",
   "metadata": {},
   "source": [
    "### Below are a few examples of arithmetic expressions in Python"
   ]
  },
  {
   "cell_type": "code",
   "execution_count": 12,
   "id": "1a2b1cb4-1bc9-488f-8e67-3eb0ce3ef29d",
   "metadata": {},
   "outputs": [
    {
     "data": {
      "text/plain": [
       "17"
      ]
     },
     "execution_count": 12,
     "metadata": {},
     "output_type": "execute_result"
    }
   ],
   "source": [
    "#This is a simple arithmetic expression to multiply then add integers\n",
    "\n",
    "(3*4)+5"
   ]
  },
  {
   "cell_type": "code",
   "execution_count": 4,
   "id": "3e5556ef-2edb-4319-92b5-26aaa92d0862",
   "metadata": {},
   "outputs": [
    {
     "name": "stdin",
     "output_type": "stream",
     "text": [
      "Enter any number:  200\n"
     ]
    },
    {
     "name": "stdout",
     "output_type": "stream",
     "text": [
      "3.3333333333333335 hours.\n"
     ]
    }
   ],
   "source": [
    "#converting minutes into hours\n",
    "\n",
    "entry = int(input(\"Enter any number: \"))\n",
    "\n",
    "converted_minutes_into_hours = entry / 60\n",
    "\n",
    "print( str(converted_minutes_into_hours) + \" hours.\" )\n",
    "\n"
   ]
  },
  {
   "cell_type": "markdown",
   "id": "1ba8fe81-75a5-4cbf-baf4-7dcbc1a7203d",
   "metadata": {},
   "source": [
    "**Objectives**\n",
    "-  List of popular Languages for Data Science\n",
    "-  List of common Libraries used by Data Scientists\n",
    "-  List of Data Science Tools in a column\n",
    "-  Simple arithmetic expression to multiply then add integers\n",
    "-  Converting minutes into hours"
   ]
  },
  {
   "cell_type": "markdown",
   "id": "80df65d8-920f-4ed7-8623-1f0857f7b4fd",
   "metadata": {},
   "source": [
    "## Author \n",
    "Paa Kwesi Gyan Turkson"
   ]
  },
  {
   "cell_type": "code",
   "execution_count": null,
   "id": "c0b77046-e02c-49bf-8273-13012d6c9a82",
   "metadata": {},
   "outputs": [],
   "source": []
  }
 ],
 "metadata": {
  "kernelspec": {
   "display_name": "Python 3 (ipykernel)",
   "language": "python",
   "name": "python3"
  },
  "language_info": {
   "codemirror_mode": {
    "name": "ipython",
    "version": 3
   },
   "file_extension": ".py",
   "mimetype": "text/x-python",
   "name": "python",
   "nbconvert_exporter": "python",
   "pygments_lexer": "ipython3",
   "version": "3.12.4"
  }
 },
 "nbformat": 4,
 "nbformat_minor": 5
}
